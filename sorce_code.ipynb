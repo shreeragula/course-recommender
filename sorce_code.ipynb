{
 "cells": [
  {
   "cell_type": "code",
   "execution_count": null,
   "metadata": {
    "colab": {
     "base_uri": "https://localhost:8080/"
    },
    "executionInfo": {
     "elapsed": 3101,
     "status": "ok",
     "timestamp": 1740826225373,
     "user": {
      "displayName": "23B01A4214 AI&ML",
      "userId": "01186328938906174019"
     },
     "user_tz": -330
    },
    "id": "6nFP7jscc596",
    "outputId": "b912a63d-060b-4f66-d80b-70aa84af10c7"
   },
   "outputs": [],
   "source": [
    "import os\n",
    "import numpy as np\n",
    "import pandas as pd\n",
    "import matplotlib.pyplot as plt\n",
    "import seaborn as sns\n",
    "print('Dependencies Imported')"
   ]
  },
  {
   "cell_type": "code",
   "execution_count": null,
   "metadata": {
    "colab": {
     "base_uri": "https://localhost:8080/",
     "height": 397
    },
    "executionInfo": {
     "elapsed": 1050,
     "status": "ok",
     "timestamp": 1740826474662,
     "user": {
      "displayName": "23B01A4214 AI&ML",
      "userId": "01186328938906174019"
     },
     "user_tz": -330
    },
    "id": "FGbq1ffWc8VJ",
    "outputId": "053104c5-b221-4980-9666-dc1bb3a7f327"
   },
   "outputs": [],
   "source": [
    "import pandas as pd\n",
    "\n",
    "data = pd.read_csv(r\"Coursera.csv\")\n",
    "print(data.head())\n"
   ]
  },
  {
   "cell_type": "code",
   "execution_count": null,
   "metadata": {
    "colab": {
     "base_uri": "https://localhost:8080/"
    },
    "executionInfo": {
     "elapsed": 1042,
     "status": "ok",
     "timestamp": 1740826495456,
     "user": {
      "displayName": "23B01A4214 AI&ML",
      "userId": "01186328938906174019"
     },
     "user_tz": -330
    },
    "id": "C6jPpWhZhUm8",
    "outputId": "d608c7fa-ed61-4aec-8f96-e8cda5bb5e61"
   },
   "outputs": [],
   "source": [
    "data.shape\n"
   ]
  },
  {
   "cell_type": "code",
   "execution_count": null,
   "metadata": {
    "colab": {
     "base_uri": "https://localhost:8080/"
    },
    "executionInfo": {
     "elapsed": 4,
     "status": "ok",
     "timestamp": 1740826497615,
     "user": {
      "displayName": "23B01A4214 AI&ML",
      "userId": "01186328938906174019"
     },
     "user_tz": -330
    },
    "id": "aDnAI8ITiGRo",
    "outputId": "7ad7c7f7-59e4-4afe-cb83-7673762289ae"
   },
   "outputs": [],
   "source": [
    "data.info()"
   ]
  },
  {
   "cell_type": "code",
   "execution_count": null,
   "metadata": {
    "colab": {
     "base_uri": "https://localhost:8080/",
     "height": 303
    },
    "executionInfo": {
     "elapsed": 13,
     "status": "ok",
     "timestamp": 1740826499660,
     "user": {
      "displayName": "23B01A4214 AI&ML",
      "userId": "01186328938906174019"
     },
     "user_tz": -330
    },
    "id": "UxULlYPNi5a_",
    "outputId": "9d2f67cb-4094-4240-a807-ef02cd1a15cc"
   },
   "outputs": [],
   "source": [
    "data.isnull().sum()"
   ]
  },
  {
   "cell_type": "code",
   "execution_count": null,
   "metadata": {
    "colab": {
     "base_uri": "https://localhost:8080/",
     "height": 272
    },
    "executionInfo": {
     "elapsed": 13,
     "status": "ok",
     "timestamp": 1740826501877,
     "user": {
      "displayName": "23B01A4214 AI&ML",
      "userId": "01186328938906174019"
     },
     "user_tz": -330
    },
    "id": "gbHLEg6HjOPQ",
    "outputId": "8dea8e0a-dd83-402e-9ca9-9af6b6eef63a"
   },
   "outputs": [],
   "source": [
    "data['Difficulty Level'].value_counts()"
   ]
  },
  {
   "cell_type": "code",
   "execution_count": null,
   "metadata": {
    "colab": {
     "base_uri": "https://localhost:8080/",
     "height": 1000
    },
    "executionInfo": {
     "elapsed": 1664,
     "status": "ok",
     "timestamp": 1740826505843,
     "user": {
      "displayName": "23B01A4214 AI&ML",
      "userId": "01186328938906174019"
     },
     "user_tz": -330
    },
    "id": "brOlsTG9jRvB",
    "outputId": "ab6585a1-53c3-43de-9a2f-40a7d714b8bf"
   },
   "outputs": [],
   "source": [
    "data['Course Rating'].value_counts()"
   ]
  },
  {
   "cell_type": "code",
   "execution_count": null,
   "metadata": {
    "colab": {
     "base_uri": "https://localhost:8080/",
     "height": 489
    },
    "executionInfo": {
     "elapsed": 12,
     "status": "ok",
     "timestamp": 1740826509887,
     "user": {
      "displayName": "23B01A4214 AI&ML",
      "userId": "01186328938906174019"
     },
     "user_tz": -330
    },
    "id": "4kDmESOxjUO-",
    "outputId": "f82a45d2-87c6-4ef6-b4ff-9e17a4b67a93"
   },
   "outputs": [],
   "source": [
    "data['University'].value_counts()"
   ]
  },
  {
   "cell_type": "code",
   "execution_count": null,
   "metadata": {
    "colab": {
     "base_uri": "https://localhost:8080/",
     "height": 458
    },
    "executionInfo": {
     "elapsed": 753,
     "status": "ok",
     "timestamp": 1740826511736,
     "user": {
      "displayName": "23B01A4214 AI&ML",
      "userId": "01186328938906174019"
     },
     "user_tz": -330
    },
    "id": "uho5hKIwjX5Q",
    "outputId": "e7372f1c-8bc4-4a39-bad6-ed29a604e68e"
   },
   "outputs": [],
   "source": [
    "data['Course Name']"
   ]
  },
  {
   "cell_type": "code",
   "execution_count": 49,
   "metadata": {
    "executionInfo": {
     "elapsed": 1,
     "status": "ok",
     "timestamp": 1740826514616,
     "user": {
      "displayName": "23B01A4214 AI&ML",
      "userId": "01186328938906174019"
     },
     "user_tz": -330
    },
    "id": "LeMJFfpEjiye"
   },
   "outputs": [],
   "source": [
    "data = data[['Course Name','Difficulty Level','Course Description','Skills']]"
   ]
  },
  {
   "cell_type": "code",
   "execution_count": null,
   "metadata": {
    "colab": {
     "base_uri": "https://localhost:8080/",
     "height": 310
    },
    "executionInfo": {
     "elapsed": 15,
     "status": "ok",
     "timestamp": 1740826516382,
     "user": {
      "displayName": "23B01A4214 AI&ML",
      "userId": "01186328938906174019"
     },
     "user_tz": -330
    },
    "id": "IpN5cN2TkEDy",
    "outputId": "8fb77500-8859-4c95-fe20-9dcee40d8d02"
   },
   "outputs": [],
   "source": [
    "data.head(5)"
   ]
  },
  {
   "cell_type": "code",
   "execution_count": 51,
   "metadata": {
    "executionInfo": {
     "elapsed": 590,
     "status": "ok",
     "timestamp": 1740826522256,
     "user": {
      "displayName": "23B01A4214 AI&ML",
      "userId": "01186328938906174019"
     },
     "user_tz": -330
    },
    "id": "2vgGs68YkJdn"
   },
   "outputs": [],
   "source": [
    "'''Data Pre-Processing¶\n",
    "An important part of the process is to pre-process the data into usable format for the recommendation system'''\n",
    "# Removing spaces between the words (Lambda funtions can be used as well)\n",
    "\n",
    "data['Course Name'] = data['Course Name'].str.replace(' ',',')\n",
    "data['Course Name'] = data['Course Name'].str.replace(',,',',')\n",
    "data['Course Name'] = data['Course Name'].str.replace(':','')\n",
    "data['Course Description'] = data['Course Description'].str.replace(' ',',')\n",
    "data['Course Description'] = data['Course Description'].str.replace(',,',',')\n",
    "data['Course Description'] = data['Course Description'].str.replace('_','')\n",
    "data['Course Description'] = data['Course Description'].str.replace(':','')\n",
    "data['Course Description'] = data['Course Description'].str.replace('(','')\n",
    "data['Course Description'] = data['Course Description'].str.replace(')','')\n",
    "\n",
    "#removing paranthesis from skills columns\n",
    "data['Skills'] = data['Skills'].str.replace('(','')\n",
    "data['Skills'] = data['Skills'].str.replace(')','')"
   ]
  },
  {
   "cell_type": "code",
   "execution_count": null,
   "metadata": {
    "colab": {
     "base_uri": "https://localhost:8080/",
     "height": 310
    },
    "executionInfo": {
     "elapsed": 624,
     "status": "ok",
     "timestamp": 1740826525346,
     "user": {
      "displayName": "23B01A4214 AI&ML",
      "userId": "01186328938906174019"
     },
     "user_tz": -330
    },
    "id": "_02rEmwZkdis",
    "outputId": "d3b496cf-db5a-490d-e1ec-6719059355d9"
   },
   "outputs": [],
   "source": [
    "data.head(5)"
   ]
  },
  {
   "cell_type": "code",
   "execution_count": 53,
   "metadata": {
    "executionInfo": {
     "elapsed": 1035,
     "status": "ok",
     "timestamp": 1740826534470,
     "user": {
      "displayName": "23B01A4214 AI&ML",
      "userId": "01186328938906174019"
     },
     "user_tz": -330
    },
    "id": "MWvZ5m1SkhyV"
   },
   "outputs": [],
   "source": [
    "data['tags'] = data['Course Name'] + data['Difficulty Level'] + data['Course Description'] + data['Skills']"
   ]
  },
  {
   "cell_type": "code",
   "execution_count": null,
   "metadata": {
    "colab": {
     "base_uri": "https://localhost:8080/",
     "height": 538
    },
    "executionInfo": {
     "elapsed": 775,
     "status": "ok",
     "timestamp": 1740826536116,
     "user": {
      "displayName": "23B01A4214 AI&ML",
      "userId": "01186328938906174019"
     },
     "user_tz": -330
    },
    "id": "oIOVwvG1knoX",
    "outputId": "a105c986-69a4-4da9-c3b3-1271ea862d17"
   },
   "outputs": [],
   "source": [
    "data.head(5)"
   ]
  },
  {
   "cell_type": "code",
   "execution_count": null,
   "metadata": {
    "colab": {
     "base_uri": "https://localhost:8080/",
     "height": 140
    },
    "executionInfo": {
     "elapsed": 13,
     "status": "ok",
     "timestamp": 1740826537780,
     "user": {
      "displayName": "23B01A4214 AI&ML",
      "userId": "01186328938906174019"
     },
     "user_tz": -330
    },
    "id": "PLxojWz3kqda",
    "outputId": "131566a7-e689-4bbb-e5c9-23c8582ee90c"
   },
   "outputs": [],
   "source": [
    "data['tags'].iloc[1]"
   ]
  },
  {
   "cell_type": "code",
   "execution_count": 56,
   "metadata": {
    "executionInfo": {
     "elapsed": 577,
     "status": "ok",
     "timestamp": 1740826544593,
     "user": {
      "displayName": "23B01A4214 AI&ML",
      "userId": "01186328938906174019"
     },
     "user_tz": -330
    },
    "id": "5PNjrFx0k-BS"
   },
   "outputs": [],
   "source": [
    "new_df = data[['Course Name','tags']]"
   ]
  },
  {
   "cell_type": "code",
   "execution_count": null,
   "metadata": {
    "colab": {
     "base_uri": "https://localhost:8080/",
     "height": 206
    },
    "executionInfo": {
     "elapsed": 8,
     "status": "ok",
     "timestamp": 1740826282337,
     "user": {
      "displayName": "23B01A4214 AI&ML",
      "userId": "01186328938906174019"
     },
     "user_tz": -330
    },
    "id": "rZJfASaVk_7c",
    "outputId": "78cfd13f-460b-41cf-e83a-d64e6717d0df"
   },
   "outputs": [],
   "source": [
    "new_df.head(5)"
   ]
  },
  {
   "cell_type": "code",
   "execution_count": null,
   "metadata": {
    "colab": {
     "base_uri": "https://localhost:8080/"
    },
    "executionInfo": {
     "elapsed": 537,
     "status": "ok",
     "timestamp": 1740826549494,
     "user": {
      "displayName": "23B01A4214 AI&ML",
      "userId": "01186328938906174019"
     },
     "user_tz": -330
    },
    "id": "LH-ixhUXlENZ",
    "outputId": "320dcdc5-e690-462c-ba4d-15d2cda865a5"
   },
   "outputs": [],
   "source": [
    "new_df['tags'] = data['tags'].str.replace(',',' ')"
   ]
  },
  {
   "cell_type": "code",
   "execution_count": null,
   "metadata": {
    "colab": {
     "base_uri": "https://localhost:8080/"
    },
    "executionInfo": {
     "elapsed": 6,
     "status": "ok",
     "timestamp": 1740826551763,
     "user": {
      "displayName": "23B01A4214 AI&ML",
      "userId": "01186328938906174019"
     },
     "user_tz": -330
    },
    "id": "nCSFYeWSlHQM",
    "outputId": "71fb98e8-040b-405e-9f5d-899bae56e6fe"
   },
   "outputs": [],
   "source": [
    "new_df['Course Name'] = data['Course Name'].str.replace(',',' ')"
   ]
  },
  {
   "cell_type": "code",
   "execution_count": null,
   "metadata": {
    "colab": {
     "base_uri": "https://localhost:8080/"
    },
    "executionInfo": {
     "elapsed": 4,
     "status": "ok",
     "timestamp": 1740826553966,
     "user": {
      "displayName": "23B01A4214 AI&ML",
      "userId": "01186328938906174019"
     },
     "user_tz": -330
    },
    "id": "T5s32cWRlJ4h",
    "outputId": "b893082b-ed9a-4fe3-f5db-fe523ac48bde"
   },
   "outputs": [],
   "source": [
    "new_df.rename(columns = {'Course Name':'course_name'}, inplace = True)"
   ]
  },
  {
   "cell_type": "code",
   "execution_count": null,
   "metadata": {
    "colab": {
     "base_uri": "https://localhost:8080/"
    },
    "executionInfo": {
     "elapsed": 5,
     "status": "ok",
     "timestamp": 1740826554668,
     "user": {
      "displayName": "23B01A4214 AI&ML",
      "userId": "01186328938906174019"
     },
     "user_tz": -330
    },
    "id": "v-IWPGS-lRVv",
    "outputId": "92b0d574-c82d-4afd-9c41-961126f27083"
   },
   "outputs": [],
   "source": [
    "new_df['tags'] = new_df['tags'].apply(lambda x:x.lower()) #lower casing the tags column"
   ]
  },
  {
   "cell_type": "code",
   "execution_count": null,
   "metadata": {
    "colab": {
     "base_uri": "https://localhost:8080/",
     "height": 206
    },
    "executionInfo": {
     "elapsed": 13,
     "status": "ok",
     "timestamp": 1740826556532,
     "user": {
      "displayName": "23B01A4214 AI&ML",
      "userId": "01186328938906174019"
     },
     "user_tz": -330
    },
    "id": "VAfCgrM5lTv5",
    "outputId": "4f742e19-9e6b-44f7-9b73-9c2521ad9e48"
   },
   "outputs": [],
   "source": [
    "new_df.head(5)"
   ]
  },
  {
   "cell_type": "code",
   "execution_count": null,
   "metadata": {
    "colab": {
     "base_uri": "https://localhost:8080/"
    },
    "executionInfo": {
     "elapsed": 6,
     "status": "ok",
     "timestamp": 1740826557723,
     "user": {
      "displayName": "23B01A4214 AI&ML",
      "userId": "01186328938906174019"
     },
     "user_tz": -330
    },
    "id": "abXHiRIGlXq7",
    "outputId": "9a62702c-c09b-4a90-a3c4-448e0d28bd5e"
   },
   "outputs": [],
   "source": [
    "new_df.shape #3522 courses with tags and 2 columns (course_name and tags)"
   ]
  },
  {
   "cell_type": "code",
   "execution_count": 64,
   "metadata": {
    "executionInfo": {
     "elapsed": 1,
     "status": "ok",
     "timestamp": 1740826559783,
     "user": {
      "displayName": "23B01A4214 AI&ML",
      "userId": "01186328938906174019"
     },
     "user_tz": -330
    },
    "id": "bbup4zQplc7I"
   },
   "outputs": [],
   "source": [
    "from sklearn.feature_extraction.text import CountVectorizer"
   ]
  },
  {
   "cell_type": "code",
   "execution_count": 65,
   "metadata": {
    "executionInfo": {
     "elapsed": 1447,
     "status": "ok",
     "timestamp": 1740826564207,
     "user": {
      "displayName": "23B01A4214 AI&ML",
      "userId": "01186328938906174019"
     },
     "user_tz": -330
    },
    "id": "_fOtk4qplek-"
   },
   "outputs": [],
   "source": [
    "cv = CountVectorizer(max_features=5000,stop_words='english')"
   ]
  },
  {
   "cell_type": "code",
   "execution_count": 66,
   "metadata": {
    "executionInfo": {
     "elapsed": 1,
     "status": "ok",
     "timestamp": 1740826565844,
     "user": {
      "displayName": "23B01A4214 AI&ML",
      "userId": "01186328938906174019"
     },
     "user_tz": -330
    },
    "id": "spv68O5nliaH"
   },
   "outputs": [],
   "source": [
    "vectors = cv.fit_transform(new_df['tags']).toarray()"
   ]
  },
  {
   "cell_type": "code",
   "execution_count": 67,
   "metadata": {
    "executionInfo": {
     "elapsed": 1,
     "status": "ok",
     "timestamp": 1740826568775,
     "user": {
      "displayName": "23B01A4214 AI&ML",
      "userId": "01186328938906174019"
     },
     "user_tz": -330
    },
    "id": "O9opmbYBlkVa"
   },
   "outputs": [],
   "source": [
    "import nltk #for stemming process"
   ]
  },
  {
   "cell_type": "code",
   "execution_count": 68,
   "metadata": {
    "executionInfo": {
     "elapsed": 1,
     "status": "ok",
     "timestamp": 1740826569325,
     "user": {
      "displayName": "23B01A4214 AI&ML",
      "userId": "01186328938906174019"
     },
     "user_tz": -330
    },
    "id": "y2wvtLLAGpZ9"
   },
   "outputs": [],
   "source": [
    "from nltk.stem.porter import PorterStemmer\n",
    "ps = PorterStemmer()"
   ]
  },
  {
   "cell_type": "code",
   "execution_count": 69,
   "metadata": {
    "executionInfo": {
     "elapsed": 504,
     "status": "ok",
     "timestamp": 1740826572983,
     "user": {
      "displayName": "23B01A4214 AI&ML",
      "userId": "01186328938906174019"
     },
     "user_tz": -330
    },
    "id": "usDrGcwtGWr7"
   },
   "outputs": [],
   "source": [
    "#defining the stemming function\n",
    "def stem(text):\n",
    "    y=[]\n",
    "\n",
    "    for i in text.split():\n",
    "        y.append(ps.stem(i))\n",
    "\n",
    "    return \" \".join(y)"
   ]
  },
  {
   "cell_type": "code",
   "execution_count": null,
   "metadata": {
    "colab": {
     "base_uri": "https://localhost:8080/"
    },
    "executionInfo": {
     "elapsed": 12576,
     "status": "ok",
     "timestamp": 1740826589647,
     "user": {
      "displayName": "23B01A4214 AI&ML",
      "userId": "01186328938906174019"
     },
     "user_tz": -330
    },
    "id": "jTEVOf6eGaan",
    "outputId": "371d5bc9-a1fe-4816-894d-c2b2c90a8d72"
   },
   "outputs": [],
   "source": [
    "new_df['tags'] = new_df['tags'].apply(stem) #applying stemming on the tags column"
   ]
  },
  {
   "cell_type": "code",
   "execution_count": 71,
   "metadata": {
    "executionInfo": {
     "elapsed": 3,
     "status": "ok",
     "timestamp": 1740826589648,
     "user": {
      "displayName": "23B01A4214 AI&ML",
      "userId": "01186328938906174019"
     },
     "user_tz": -330
    },
    "id": "3H13iSBmGvw3"
   },
   "outputs": [],
   "source": [
    "from sklearn.metrics.pairwise import cosine_similarity"
   ]
  },
  {
   "cell_type": "code",
   "execution_count": 72,
   "metadata": {
    "executionInfo": {
     "elapsed": 2772,
     "status": "ok",
     "timestamp": 1740826592418,
     "user": {
      "displayName": "23B01A4214 AI&ML",
      "userId": "01186328938906174019"
     },
     "user_tz": -330
    },
    "id": "WExyrusQGy-6"
   },
   "outputs": [],
   "source": [
    "similarity = cosine_similarity(vectors)"
   ]
  },
  {
   "cell_type": "code",
   "execution_count": 73,
   "metadata": {
    "executionInfo": {
     "elapsed": 13,
     "status": "ok",
     "timestamp": 1740826592426,
     "user": {
      "displayName": "23B01A4214 AI&ML",
      "userId": "01186328938906174019"
     },
     "user_tz": -330
    },
    "id": "jPZ8sIYQG3RD"
   },
   "outputs": [],
   "source": [
    "def recommend(course):\n",
    "    course_index = new_df[new_df['course_name'] == course].index[0]\n",
    "    distances = similarity[course_index]\n",
    "    course_list = sorted(list(enumerate(distances)),reverse=True, key=lambda x:x[1])[1:7]\n",
    "\n",
    "    for i in course_list:\n",
    "        print(new_df.iloc[i[0]].course_name)"
   ]
  },
  {
   "cell_type": "code",
   "execution_count": 79,
   "metadata": {
    "colab": {
     "base_uri": "https://localhost:8080/"
    },
    "executionInfo": {
     "elapsed": 506,
     "status": "ok",
     "timestamp": 1740826825926,
     "user": {
      "displayName": "23B01A4214 AI&ML",
      "userId": "01186328938906174019"
     },
     "user_tz": -330
    },
    "id": "RM455dU1G7oI",
    "outputId": "f0792bc6-674d-41b7-c1ef-6b46b7c87c41"
   },
   "outputs": [],
   "source": [
    "def recommend(course_name):\n",
    "    try:\n",
    "        # Find index of the course in dataset\n",
    "        idx = data[data['Course Name'].str.contains(course_name, case=False, na=False)].index[0]\n",
    "\n",
    "        # Get similarity scores and sort them\n",
    "        similar_courses = sorted(list(enumerate(similarity[idx])), key=lambda x: x[1], reverse=True)[1:6]\n",
    "\n",
    "        print(f\"\\nTop 5 Course Recommendations for: {course_name}\\n\")\n",
    "        for i, (index, score) in enumerate(similar_courses, 1):\n",
    "            print(f\"{i}. {data.iloc[index]['Course Name']} - Rating: {data.iloc[index]['Difficulty Level']}\")\n",
    "\n",
    "    except IndexError:\n",
    "        print(\"Course not found. Please check the name and try again.\")\n"
   ]
  }
 ],
 "metadata": {
  "colab": {
   "authorship_tag": "ABX9TyOzqZObB//IlUHTp0TDIN80",
   "provenance": []
  },
  "kernelspec": {
   "display_name": "Python 3",
   "name": "python3"
  },
  "language_info": {
   "codemirror_mode": {
    "name": "ipython",
    "version": 3
   },
   "file_extension": ".py",
   "mimetype": "text/x-python",
   "name": "python",
   "nbconvert_exporter": "python",
   "pygments_lexer": "ipython3",
   "version": "3.13.2"
  }
 },
 "nbformat": 4,
 "nbformat_minor": 0
}
